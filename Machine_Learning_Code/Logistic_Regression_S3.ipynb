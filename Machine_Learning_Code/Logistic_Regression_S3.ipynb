{
 "cells": [
  {
   "cell_type": "code",
   "execution_count": 17,
   "id": "371ad052",
   "metadata": {},
   "outputs": [
    {
     "data": {
      "text/html": [
       "<div>\n",
       "<style scoped>\n",
       "    .dataframe tbody tr th:only-of-type {\n",
       "        vertical-align: middle;\n",
       "    }\n",
       "\n",
       "    .dataframe tbody tr th {\n",
       "        vertical-align: top;\n",
       "    }\n",
       "\n",
       "    .dataframe thead th {\n",
       "        text-align: right;\n",
       "    }\n",
       "</style>\n",
       "<table border=\"1\" class=\"dataframe\">\n",
       "  <thead>\n",
       "    <tr style=\"text-align: right;\">\n",
       "      <th></th>\n",
       "      <th>disaster_number</th>\n",
       "      <th>STATE</th>\n",
       "      <th>declaration_type</th>\n",
       "      <th>declaration_date</th>\n",
       "      <th>fy_declared</th>\n",
       "      <th>incident_type</th>\n",
       "      <th>declaration_title</th>\n",
       "      <th>fips</th>\n",
       "      <th>place_code</th>\n",
       "      <th>designated_area</th>\n",
       "      <th>...</th>\n",
       "      <th>month_x</th>\n",
       "      <th>month_year</th>\n",
       "      <th>TEMPERATURE_ID</th>\n",
       "      <th>DATE</th>\n",
       "      <th>Country</th>\n",
       "      <th>Fahrenheit</th>\n",
       "      <th>AverageTemperatureF</th>\n",
       "      <th>AverageTemperatureUncertaintyF</th>\n",
       "      <th>year_y</th>\n",
       "      <th>month_y</th>\n",
       "    </tr>\n",
       "  </thead>\n",
       "  <tbody>\n",
       "    <tr>\n",
       "      <th>0</th>\n",
       "      <td>1796</td>\n",
       "      <td>AK</td>\n",
       "      <td>DR</td>\n",
       "      <td>2008-09-26</td>\n",
       "      <td>2008</td>\n",
       "      <td>Severe Storm(s)</td>\n",
       "      <td>Severe Storms, Flooding, Landslides, And Mudsl...</td>\n",
       "      <td>2090</td>\n",
       "      <td>99090</td>\n",
       "      <td>Fairbanks North Star (Borough)</td>\n",
       "      <td>...</td>\n",
       "      <td>9</td>\n",
       "      <td>2008-09</td>\n",
       "      <td>1398</td>\n",
       "      <td>2008-09-01</td>\n",
       "      <td>United States</td>\n",
       "      <td>74.696</td>\n",
       "      <td>40.5392</td>\n",
       "      <td>32.4518</td>\n",
       "      <td>2008</td>\n",
       "      <td>9</td>\n",
       "    </tr>\n",
       "    <tr>\n",
       "      <th>1</th>\n",
       "      <td>1796</td>\n",
       "      <td>AK</td>\n",
       "      <td>DR</td>\n",
       "      <td>2008-09-26</td>\n",
       "      <td>2008</td>\n",
       "      <td>Severe Storm(s)</td>\n",
       "      <td>Severe Storms, Flooding, Landslides, And Mudsl...</td>\n",
       "      <td>2068</td>\n",
       "      <td>99068</td>\n",
       "      <td>Denali (Borough)</td>\n",
       "      <td>...</td>\n",
       "      <td>9</td>\n",
       "      <td>2008-09</td>\n",
       "      <td>1398</td>\n",
       "      <td>2008-09-01</td>\n",
       "      <td>United States</td>\n",
       "      <td>74.696</td>\n",
       "      <td>40.5392</td>\n",
       "      <td>32.4518</td>\n",
       "      <td>2008</td>\n",
       "      <td>9</td>\n",
       "    </tr>\n",
       "    <tr>\n",
       "      <th>2</th>\n",
       "      <td>1796</td>\n",
       "      <td>AK</td>\n",
       "      <td>DR</td>\n",
       "      <td>2008-09-26</td>\n",
       "      <td>2008</td>\n",
       "      <td>Severe Storm(s)</td>\n",
       "      <td>Severe Storms, Flooding, Landslides, And Mudsl...</td>\n",
       "      <td>2185</td>\n",
       "      <td>99185</td>\n",
       "      <td>North Slope (Borough)</td>\n",
       "      <td>...</td>\n",
       "      <td>9</td>\n",
       "      <td>2008-09</td>\n",
       "      <td>1398</td>\n",
       "      <td>2008-09-01</td>\n",
       "      <td>United States</td>\n",
       "      <td>74.696</td>\n",
       "      <td>40.5392</td>\n",
       "      <td>32.4518</td>\n",
       "      <td>2008</td>\n",
       "      <td>9</td>\n",
       "    </tr>\n",
       "    <tr>\n",
       "      <th>3</th>\n",
       "      <td>1796</td>\n",
       "      <td>AK</td>\n",
       "      <td>DR</td>\n",
       "      <td>2008-09-26</td>\n",
       "      <td>2008</td>\n",
       "      <td>Severe Storm(s)</td>\n",
       "      <td>Severe Storms, Flooding, Landslides, And Mudsl...</td>\n",
       "      <td>2290</td>\n",
       "      <td>86650</td>\n",
       "      <td>Yukon Koyukuk Regional Educational Attendance ...</td>\n",
       "      <td>...</td>\n",
       "      <td>9</td>\n",
       "      <td>2008-09</td>\n",
       "      <td>1398</td>\n",
       "      <td>2008-09-01</td>\n",
       "      <td>United States</td>\n",
       "      <td>74.696</td>\n",
       "      <td>40.5392</td>\n",
       "      <td>32.4518</td>\n",
       "      <td>2008</td>\n",
       "      <td>9</td>\n",
       "    </tr>\n",
       "    <tr>\n",
       "      <th>4</th>\n",
       "      <td>1440</td>\n",
       "      <td>AK</td>\n",
       "      <td>DR</td>\n",
       "      <td>2002-11-08</td>\n",
       "      <td>2003</td>\n",
       "      <td>Earthquake</td>\n",
       "      <td>Earthquake</td>\n",
       "      <td>2170</td>\n",
       "      <td>99170</td>\n",
       "      <td>Matanuska-Susitna (Borough)</td>\n",
       "      <td>...</td>\n",
       "      <td>11</td>\n",
       "      <td>2002-11</td>\n",
       "      <td>1328</td>\n",
       "      <td>2002-11-01</td>\n",
       "      <td>United States</td>\n",
       "      <td>-27.373</td>\n",
       "      <td>20.1254</td>\n",
       "      <td>32.4266</td>\n",
       "      <td>2002</td>\n",
       "      <td>11</td>\n",
       "    </tr>\n",
       "  </tbody>\n",
       "</table>\n",
       "<p>5 rows × 25 columns</p>\n",
       "</div>"
      ],
      "text/plain": [
       "   disaster_number STATE declaration_type declaration_date  fy_declared  \\\n",
       "0             1796    AK               DR       2008-09-26         2008   \n",
       "1             1796    AK               DR       2008-09-26         2008   \n",
       "2             1796    AK               DR       2008-09-26         2008   \n",
       "3             1796    AK               DR       2008-09-26         2008   \n",
       "4             1440    AK               DR       2002-11-08         2003   \n",
       "\n",
       "     incident_type                                  declaration_title  fips  \\\n",
       "0  Severe Storm(s)  Severe Storms, Flooding, Landslides, And Mudsl...  2090   \n",
       "1  Severe Storm(s)  Severe Storms, Flooding, Landslides, And Mudsl...  2068   \n",
       "2  Severe Storm(s)  Severe Storms, Flooding, Landslides, And Mudsl...  2185   \n",
       "3  Severe Storm(s)  Severe Storms, Flooding, Landslides, And Mudsl...  2290   \n",
       "4       Earthquake                                         Earthquake  2170   \n",
       "\n",
       "   place_code                                    designated_area  ...  \\\n",
       "0       99090                     Fairbanks North Star (Borough)  ...   \n",
       "1       99068                                   Denali (Borough)  ...   \n",
       "2       99185                              North Slope (Borough)  ...   \n",
       "3       86650  Yukon Koyukuk Regional Educational Attendance ...  ...   \n",
       "4       99170                        Matanuska-Susitna (Borough)  ...   \n",
       "\n",
       "   month_x month_year TEMPERATURE_ID        DATE        Country  Fahrenheit  \\\n",
       "0        9    2008-09           1398  2008-09-01  United States      74.696   \n",
       "1        9    2008-09           1398  2008-09-01  United States      74.696   \n",
       "2        9    2008-09           1398  2008-09-01  United States      74.696   \n",
       "3        9    2008-09           1398  2008-09-01  United States      74.696   \n",
       "4       11    2002-11           1328  2002-11-01  United States     -27.373   \n",
       "\n",
       "  AverageTemperatureF  AverageTemperatureUncertaintyF year_y month_y  \n",
       "0             40.5392                         32.4518   2008       9  \n",
       "1             40.5392                         32.4518   2008       9  \n",
       "2             40.5392                         32.4518   2008       9  \n",
       "3             40.5392                         32.4518   2008       9  \n",
       "4             20.1254                         32.4266   2002      11  \n",
       "\n",
       "[5 rows x 25 columns]"
      ]
     },
     "execution_count": 17,
     "metadata": {},
     "output_type": "execute_result"
    }
   ],
   "source": [
    "import boto3\n",
    "import pandas as pd\n",
    "import psycopg2\n",
    "from sklearn.linear_model import LogisticRegression\n",
    "from sklearn.model_selection import train_test_split\n",
    "\n",
    "s3_client = boto3.client('s3')\n",
    "path = 's3://s3disastersbuket/temp_disaster_merge_new.csv'\n",
    "df = pd.read_csv(path)\n",
    "df.head()"
   ]
  },
  {
   "cell_type": "code",
   "execution_count": 5,
   "id": "5affc473",
   "metadata": {},
   "outputs": [
    {
     "data": {
      "text/plain": [
       "disaster_number                   0\n",
       "STATE                             0\n",
       "declaration_type                  0\n",
       "declaration_date                  0\n",
       "fy_declared                       0\n",
       "incident_type                     0\n",
       "declaration_title                 0\n",
       "fips                              0\n",
       "place_code                        0\n",
       "designated_area                   0\n",
       "declaration_request_number        0\n",
       "hash                              0\n",
       "last_refresh                      0\n",
       "id                                0\n",
       "year_x                            0\n",
       "month_x                           0\n",
       "month_year                        0\n",
       "TEMPERATURE_ID                    0\n",
       "DATE                              0\n",
       "Country                           0\n",
       "Fahrenheit                        0\n",
       "AverageTemperatureF               0\n",
       "AverageTemperatureUncertaintyF    0\n",
       "year_y                            0\n",
       "month_y                           0\n",
       "dtype: int64"
      ]
     },
     "execution_count": 5,
     "metadata": {},
     "output_type": "execute_result"
    }
   ],
   "source": [
    "# check for null values\n",
    "df.isnull().sum()"
   ]
  },
  {
   "cell_type": "code",
   "execution_count": 7,
   "id": "6f789486",
   "metadata": {},
   "outputs": [
    {
     "data": {
      "text/html": [
       "<div>\n",
       "<style scoped>\n",
       "    .dataframe tbody tr th:only-of-type {\n",
       "        vertical-align: middle;\n",
       "    }\n",
       "\n",
       "    .dataframe tbody tr th {\n",
       "        vertical-align: top;\n",
       "    }\n",
       "\n",
       "    .dataframe thead th {\n",
       "        text-align: right;\n",
       "    }\n",
       "</style>\n",
       "<table border=\"1\" class=\"dataframe\">\n",
       "  <thead>\n",
       "    <tr style=\"text-align: right;\">\n",
       "      <th></th>\n",
       "      <th>disaster_number</th>\n",
       "      <th>STATE</th>\n",
       "      <th>declaration_type</th>\n",
       "      <th>incident_type</th>\n",
       "      <th>fips</th>\n",
       "      <th>place_code</th>\n",
       "      <th>designated_area</th>\n",
       "      <th>declaration_request_number</th>\n",
       "      <th>year_x</th>\n",
       "      <th>month_x</th>\n",
       "      <th>AverageTemperatureF</th>\n",
       "    </tr>\n",
       "  </thead>\n",
       "  <tbody>\n",
       "    <tr>\n",
       "      <th>0</th>\n",
       "      <td>1796</td>\n",
       "      <td>AK</td>\n",
       "      <td>DR</td>\n",
       "      <td>Severe Storm(s)</td>\n",
       "      <td>2090</td>\n",
       "      <td>99090</td>\n",
       "      <td>Fairbanks North Star (Borough)</td>\n",
       "      <td>8159</td>\n",
       "      <td>2008</td>\n",
       "      <td>9</td>\n",
       "      <td>40.5392</td>\n",
       "    </tr>\n",
       "    <tr>\n",
       "      <th>1</th>\n",
       "      <td>1796</td>\n",
       "      <td>AK</td>\n",
       "      <td>DR</td>\n",
       "      <td>Severe Storm(s)</td>\n",
       "      <td>2068</td>\n",
       "      <td>99068</td>\n",
       "      <td>Denali (Borough)</td>\n",
       "      <td>8159</td>\n",
       "      <td>2008</td>\n",
       "      <td>9</td>\n",
       "      <td>40.5392</td>\n",
       "    </tr>\n",
       "    <tr>\n",
       "      <th>2</th>\n",
       "      <td>1796</td>\n",
       "      <td>AK</td>\n",
       "      <td>DR</td>\n",
       "      <td>Severe Storm(s)</td>\n",
       "      <td>2185</td>\n",
       "      <td>99185</td>\n",
       "      <td>North Slope (Borough)</td>\n",
       "      <td>8159</td>\n",
       "      <td>2008</td>\n",
       "      <td>9</td>\n",
       "      <td>40.5392</td>\n",
       "    </tr>\n",
       "    <tr>\n",
       "      <th>3</th>\n",
       "      <td>1796</td>\n",
       "      <td>AK</td>\n",
       "      <td>DR</td>\n",
       "      <td>Severe Storm(s)</td>\n",
       "      <td>2290</td>\n",
       "      <td>86650</td>\n",
       "      <td>Yukon Koyukuk Regional Educational Attendance ...</td>\n",
       "      <td>8159</td>\n",
       "      <td>2008</td>\n",
       "      <td>9</td>\n",
       "      <td>40.5392</td>\n",
       "    </tr>\n",
       "    <tr>\n",
       "      <th>4</th>\n",
       "      <td>1440</td>\n",
       "      <td>AK</td>\n",
       "      <td>DR</td>\n",
       "      <td>Earthquake</td>\n",
       "      <td>2170</td>\n",
       "      <td>99170</td>\n",
       "      <td>Matanuska-Susitna (Borough)</td>\n",
       "      <td>2145</td>\n",
       "      <td>2002</td>\n",
       "      <td>11</td>\n",
       "      <td>20.1254</td>\n",
       "    </tr>\n",
       "  </tbody>\n",
       "</table>\n",
       "</div>"
      ],
      "text/plain": [
       "   disaster_number STATE declaration_type    incident_type  fips  place_code  \\\n",
       "0             1796    AK               DR  Severe Storm(s)  2090       99090   \n",
       "1             1796    AK               DR  Severe Storm(s)  2068       99068   \n",
       "2             1796    AK               DR  Severe Storm(s)  2185       99185   \n",
       "3             1796    AK               DR  Severe Storm(s)  2290       86650   \n",
       "4             1440    AK               DR       Earthquake  2170       99170   \n",
       "\n",
       "                                     designated_area  \\\n",
       "0                     Fairbanks North Star (Borough)   \n",
       "1                                   Denali (Borough)   \n",
       "2                              North Slope (Borough)   \n",
       "3  Yukon Koyukuk Regional Educational Attendance ...   \n",
       "4                        Matanuska-Susitna (Borough)   \n",
       "\n",
       "   declaration_request_number  year_x  month_x  AverageTemperatureF  \n",
       "0                        8159    2008        9              40.5392  \n",
       "1                        8159    2008        9              40.5392  \n",
       "2                        8159    2008        9              40.5392  \n",
       "3                        8159    2008        9              40.5392  \n",
       "4                        2145    2002       11              20.1254  "
      ]
     },
     "execution_count": 7,
     "metadata": {},
     "output_type": "execute_result"
    }
   ],
   "source": [
    "# Dropping columns we won't use\n",
    "disaster_temp_concise = df.drop(columns=[\"fy_declared\", \"declaration_date\", \"declaration_title\", \"hash\", \"last_refresh\", \"id\", \"month_year\", 'TEMPERATURE_ID', 'DATE',\n",
    "       'Country', 'Fahrenheit', 'AverageTemperatureUncertaintyF', 'year_y', 'month_y'])\n",
    "\n",
    "disaster_temp_concise.head()"
   ]
  },
  {
   "cell_type": "code",
   "execution_count": 8,
   "id": "753d9718",
   "metadata": {},
   "outputs": [
    {
     "data": {
      "text/plain": [
       "disaster_number                 int64\n",
       "STATE                          object\n",
       "declaration_type               object\n",
       "incident_type                  object\n",
       "fips                            int64\n",
       "place_code                      int64\n",
       "designated_area                object\n",
       "declaration_request_number      int64\n",
       "year_x                          int64\n",
       "month_x                         int64\n",
       "AverageTemperatureF           float64\n",
       "dtype: object"
      ]
     },
     "execution_count": 8,
     "metadata": {},
     "output_type": "execute_result"
    }
   ],
   "source": [
    "# check dtypes\n",
    "disaster_temp_concise.dtypes"
   ]
  },
  {
   "cell_type": "code",
   "execution_count": 9,
   "id": "911d4f97",
   "metadata": {},
   "outputs": [
    {
     "data": {
      "text/plain": [
       "Index(['disaster_number', 'STATE', 'declaration_type', 'fips', 'place_code',\n",
       "       'designated_area', 'declaration_request_number', 'year_x', 'month_x',\n",
       "       'AverageTemperatureF', 'incident_type_Coastal Storm',\n",
       "       'incident_type_Dam/Levee Break', 'incident_type_Drought',\n",
       "       'incident_type_Earthquake', 'incident_type_Fire',\n",
       "       'incident_type_Fishing Losses', 'incident_type_Flood',\n",
       "       'incident_type_Freezing', 'incident_type_Human Cause',\n",
       "       'incident_type_Hurricane', 'incident_type_Mud/Landslide',\n",
       "       'incident_type_Severe Ice Storm', 'incident_type_Severe Storm(s)',\n",
       "       'incident_type_Snow', 'incident_type_Terrorist',\n",
       "       'incident_type_Tornado', 'incident_type_Toxic Substances',\n",
       "       'incident_type_Tsunami', 'incident_type_Typhoon',\n",
       "       'incident_type_Volcano'],\n",
       "      dtype='object')"
      ]
     },
     "execution_count": 9,
     "metadata": {},
     "output_type": "execute_result"
    }
   ],
   "source": [
    "# encode incident type\n",
    "dt_encoded = pd.get_dummies(disaster_temp_concise, columns=[\"incident_type\"])\n",
    "dt_encoded.columns"
   ]
  },
  {
   "cell_type": "code",
   "execution_count": 10,
   "id": "2728d391",
   "metadata": {},
   "outputs": [
    {
     "data": {
      "text/html": [
       "<div>\n",
       "<style scoped>\n",
       "    .dataframe tbody tr th:only-of-type {\n",
       "        vertical-align: middle;\n",
       "    }\n",
       "\n",
       "    .dataframe tbody tr th {\n",
       "        vertical-align: top;\n",
       "    }\n",
       "\n",
       "    .dataframe thead th {\n",
       "        text-align: right;\n",
       "    }\n",
       "</style>\n",
       "<table border=\"1\" class=\"dataframe\">\n",
       "  <thead>\n",
       "    <tr style=\"text-align: right;\">\n",
       "      <th></th>\n",
       "      <th>disaster_number</th>\n",
       "      <th>STATE</th>\n",
       "      <th>declaration_type</th>\n",
       "      <th>fips</th>\n",
       "      <th>place_code</th>\n",
       "      <th>designated_area</th>\n",
       "      <th>declaration_request_number</th>\n",
       "      <th>year_x</th>\n",
       "      <th>month_x</th>\n",
       "      <th>AverageTemperatureF</th>\n",
       "      <th>incident_type_Hurricane</th>\n",
       "    </tr>\n",
       "  </thead>\n",
       "  <tbody>\n",
       "    <tr>\n",
       "      <th>0</th>\n",
       "      <td>1796</td>\n",
       "      <td>AK</td>\n",
       "      <td>DR</td>\n",
       "      <td>2090</td>\n",
       "      <td>99090</td>\n",
       "      <td>Fairbanks North Star (Borough)</td>\n",
       "      <td>8159</td>\n",
       "      <td>2008</td>\n",
       "      <td>9</td>\n",
       "      <td>40.5392</td>\n",
       "      <td>0</td>\n",
       "    </tr>\n",
       "    <tr>\n",
       "      <th>1</th>\n",
       "      <td>1796</td>\n",
       "      <td>AK</td>\n",
       "      <td>DR</td>\n",
       "      <td>2068</td>\n",
       "      <td>99068</td>\n",
       "      <td>Denali (Borough)</td>\n",
       "      <td>8159</td>\n",
       "      <td>2008</td>\n",
       "      <td>9</td>\n",
       "      <td>40.5392</td>\n",
       "      <td>0</td>\n",
       "    </tr>\n",
       "    <tr>\n",
       "      <th>2</th>\n",
       "      <td>1796</td>\n",
       "      <td>AK</td>\n",
       "      <td>DR</td>\n",
       "      <td>2185</td>\n",
       "      <td>99185</td>\n",
       "      <td>North Slope (Borough)</td>\n",
       "      <td>8159</td>\n",
       "      <td>2008</td>\n",
       "      <td>9</td>\n",
       "      <td>40.5392</td>\n",
       "      <td>0</td>\n",
       "    </tr>\n",
       "    <tr>\n",
       "      <th>3</th>\n",
       "      <td>1796</td>\n",
       "      <td>AK</td>\n",
       "      <td>DR</td>\n",
       "      <td>2290</td>\n",
       "      <td>86650</td>\n",
       "      <td>Yukon Koyukuk Regional Educational Attendance ...</td>\n",
       "      <td>8159</td>\n",
       "      <td>2008</td>\n",
       "      <td>9</td>\n",
       "      <td>40.5392</td>\n",
       "      <td>0</td>\n",
       "    </tr>\n",
       "    <tr>\n",
       "      <th>4</th>\n",
       "      <td>1440</td>\n",
       "      <td>AK</td>\n",
       "      <td>DR</td>\n",
       "      <td>2170</td>\n",
       "      <td>99170</td>\n",
       "      <td>Matanuska-Susitna (Borough)</td>\n",
       "      <td>2145</td>\n",
       "      <td>2002</td>\n",
       "      <td>11</td>\n",
       "      <td>20.1254</td>\n",
       "      <td>0</td>\n",
       "    </tr>\n",
       "  </tbody>\n",
       "</table>\n",
       "</div>"
      ],
      "text/plain": [
       "   disaster_number STATE declaration_type  fips  place_code  \\\n",
       "0             1796    AK               DR  2090       99090   \n",
       "1             1796    AK               DR  2068       99068   \n",
       "2             1796    AK               DR  2185       99185   \n",
       "3             1796    AK               DR  2290       86650   \n",
       "4             1440    AK               DR  2170       99170   \n",
       "\n",
       "                                     designated_area  \\\n",
       "0                     Fairbanks North Star (Borough)   \n",
       "1                                   Denali (Borough)   \n",
       "2                              North Slope (Borough)   \n",
       "3  Yukon Koyukuk Regional Educational Attendance ...   \n",
       "4                        Matanuska-Susitna (Borough)   \n",
       "\n",
       "   declaration_request_number  year_x  month_x  AverageTemperatureF  \\\n",
       "0                        8159    2008        9              40.5392   \n",
       "1                        8159    2008        9              40.5392   \n",
       "2                        8159    2008        9              40.5392   \n",
       "3                        8159    2008        9              40.5392   \n",
       "4                        2145    2002       11              20.1254   \n",
       "\n",
       "   incident_type_Hurricane  \n",
       "0                        0  \n",
       "1                        0  \n",
       "2                        0  \n",
       "3                        0  \n",
       "4                        0  "
      ]
     },
     "execution_count": 10,
     "metadata": {},
     "output_type": "execute_result"
    }
   ],
   "source": [
    "# drop columns so only using hurricane data \n",
    "dt_hurricane = dt_encoded.drop(columns=[\n",
    "       'incident_type_Coastal Storm',\n",
    "       'incident_type_Dam/Levee Break', 'incident_type_Drought',\n",
    "       'incident_type_Earthquake', 'incident_type_Fire',\n",
    "       'incident_type_Fishing Losses', 'incident_type_Flood',\n",
    "       'incident_type_Freezing', 'incident_type_Human Cause','incident_type_Mud/Landslide',\n",
    "       'incident_type_Severe Ice Storm', 'incident_type_Severe Storm(s)',\n",
    "       'incident_type_Snow', 'incident_type_Terrorist',\n",
    "       'incident_type_Tornado', 'incident_type_Toxic Substances',\n",
    "       'incident_type_Tsunami', 'incident_type_Typhoon',\n",
    "       'incident_type_Volcano'])\n",
    "dt_hurricane.head()"
   ]
  },
  {
   "cell_type": "code",
   "execution_count": 11,
   "id": "d2fe8c93",
   "metadata": {},
   "outputs": [
    {
     "data": {
      "text/plain": [
       "disaster_number                 int64\n",
       "STATE                          object\n",
       "declaration_type               object\n",
       "fips                            int64\n",
       "place_code                      int64\n",
       "designated_area                object\n",
       "declaration_request_number      int64\n",
       "year_x                          int64\n",
       "month_x                         int64\n",
       "AverageTemperatureF           float64\n",
       "incident_type_Hurricane         uint8\n",
       "dtype: object"
      ]
     },
     "execution_count": 11,
     "metadata": {},
     "output_type": "execute_result"
    }
   ],
   "source": [
    "# checking dtypes\n",
    "dt_hurricane.dtypes"
   ]
  },
  {
   "cell_type": "code",
   "execution_count": 12,
   "id": "8c0d1ea2",
   "metadata": {},
   "outputs": [],
   "source": [
    "# encode object columns\n",
    "from sklearn.preprocessing import LabelEncoder\n",
    "le = LabelEncoder()\n",
    "dt_hurricane[\"STATE\"] = le.fit_transform(dt_hurricane[\"STATE\"])\n",
    "dt_hurricane[\"declaration_type\"] = le.fit_transform(dt_hurricane[\"declaration_type\"])\n",
    "dt_hurricane[\"place_code\"] = le.fit_transform(dt_hurricane[\"place_code\"])\n",
    "dt_hurricane[\"designated_area\"] = le.fit_transform(dt_hurricane[\"designated_area\"])\n"
   ]
  },
  {
   "cell_type": "code",
   "execution_count": 13,
   "id": "7adf69ea",
   "metadata": {},
   "outputs": [
    {
     "data": {
      "text/plain": [
       "disaster_number                 int64\n",
       "STATE                           int64\n",
       "declaration_type                int64\n",
       "fips                            int64\n",
       "place_code                      int64\n",
       "designated_area                 int64\n",
       "declaration_request_number      int64\n",
       "year_x                          int64\n",
       "month_x                         int64\n",
       "AverageTemperatureF           float64\n",
       "incident_type_Hurricane         uint8\n",
       "dtype: object"
      ]
     },
     "execution_count": 13,
     "metadata": {},
     "output_type": "execute_result"
    }
   ],
   "source": [
    "# checking dtypes\n",
    "dt_hurricane.dtypes"
   ]
  },
  {
   "cell_type": "code",
   "execution_count": 14,
   "id": "c9420aca",
   "metadata": {},
   "outputs": [
    {
     "data": {
      "text/plain": [
       "disaster_number               0\n",
       "STATE                         0\n",
       "declaration_type              0\n",
       "fips                          0\n",
       "place_code                    0\n",
       "designated_area               0\n",
       "declaration_request_number    0\n",
       "year_x                        0\n",
       "month_x                       0\n",
       "AverageTemperatureF           0\n",
       "incident_type_Hurricane       0\n",
       "dtype: int64"
      ]
     },
     "execution_count": 14,
     "metadata": {},
     "output_type": "execute_result"
    }
   ],
   "source": [
    "# check for nulls\n",
    "dt_hurricane.isnull().sum()"
   ]
  },
  {
   "cell_type": "code",
   "execution_count": 15,
   "id": "53fb77ba",
   "metadata": {},
   "outputs": [
    {
     "data": {
      "text/plain": [
       "40732"
      ]
     },
     "execution_count": 15,
     "metadata": {},
     "output_type": "execute_result"
    }
   ],
   "source": [
    "# check count \n",
    "len(dt_hurricane[\"disaster_number\"])"
   ]
  },
  {
   "cell_type": "code",
   "execution_count": 18,
   "id": "51e42674",
   "metadata": {},
   "outputs": [],
   "source": [
    "# split into X and Y valuese\n",
    "y = dt_hurricane[\"incident_type_Hurricane\"]\n",
    "X = dt_hurricane.drop(columns=[\"incident_type_Hurricane\"])\n",
    "\n",
    "X_train, X_test, y_train, y_test = train_test_split(X, y, random_state=1, stratify=y)"
   ]
  },
  {
   "cell_type": "code",
   "execution_count": 19,
   "id": "a4e88d60",
   "metadata": {},
   "outputs": [],
   "source": [
    "# scale and normalize data\n",
    "from sklearn.preprocessing import StandardScaler\n",
    "scaler = StandardScaler()\n",
    "\n",
    "X_scaler  = scaler.fit(X_train)\n",
    "X_train_scaled = X_scaler.transform(X_train)\n",
    "X_test_scaled = X_scaler.transform(X_test)"
   ]
  },
  {
   "cell_type": "code",
   "execution_count": 20,
   "id": "a38f6b23",
   "metadata": {},
   "outputs": [],
   "source": [
    "# instantate Logistic Regression\n",
    "classifier = LogisticRegression(random_state=1)"
   ]
  },
  {
   "cell_type": "code",
   "execution_count": 21,
   "id": "87d696ae",
   "metadata": {},
   "outputs": [
    {
     "data": {
      "text/plain": [
       "LogisticRegression(random_state=1)"
      ]
     },
     "execution_count": 21,
     "metadata": {},
     "output_type": "execute_result"
    }
   ],
   "source": [
    "# fit model\n",
    "classifier.fit(X_train_scaled, y_train)"
   ]
  },
  {
   "cell_type": "code",
   "execution_count": 22,
   "id": "8f695ec6",
   "metadata": {},
   "outputs": [],
   "source": [
    "#predict\n",
    "y_predict = classifier.predict(X_test_scaled)"
   ]
  },
  {
   "cell_type": "code",
   "execution_count": 23,
   "id": "fd4d1b0f",
   "metadata": {},
   "outputs": [
    {
     "data": {
      "text/plain": [
       "0.8999312579789845"
      ]
     },
     "execution_count": 23,
     "metadata": {},
     "output_type": "execute_result"
    }
   ],
   "source": [
    "from sklearn.metrics import accuracy_score\n",
    "accuracy_score(y_test, y_predict)"
   ]
  },
  {
   "cell_type": "code",
   "execution_count": 24,
   "id": "21d67181",
   "metadata": {},
   "outputs": [
    {
     "data": {
      "text/html": [
       "<div>\n",
       "<style scoped>\n",
       "    .dataframe tbody tr th:only-of-type {\n",
       "        vertical-align: middle;\n",
       "    }\n",
       "\n",
       "    .dataframe tbody tr th {\n",
       "        vertical-align: top;\n",
       "    }\n",
       "\n",
       "    .dataframe thead th {\n",
       "        text-align: right;\n",
       "    }\n",
       "</style>\n",
       "<table border=\"1\" class=\"dataframe\">\n",
       "  <thead>\n",
       "    <tr style=\"text-align: right;\">\n",
       "      <th></th>\n",
       "      <th>Predicted 0</th>\n",
       "      <th>Predicted 1</th>\n",
       "    </tr>\n",
       "  </thead>\n",
       "  <tbody>\n",
       "    <tr>\n",
       "      <th>Actual 0</th>\n",
       "      <td>7833</td>\n",
       "      <td>460</td>\n",
       "    </tr>\n",
       "    <tr>\n",
       "      <th>Actual 1</th>\n",
       "      <td>559</td>\n",
       "      <td>1331</td>\n",
       "    </tr>\n",
       "  </tbody>\n",
       "</table>\n",
       "</div>"
      ],
      "text/plain": [
       "          Predicted 0  Predicted 1\n",
       "Actual 0         7833          460\n",
       "Actual 1          559         1331"
      ]
     },
     "execution_count": 24,
     "metadata": {},
     "output_type": "execute_result"
    }
   ],
   "source": [
    "from sklearn.metrics import confusion_matrix\n",
    "cm = confusion_matrix(y_test, y_predict)\n",
    "cm_df = pd.DataFrame(cm, index=[\"Actual 0\", \"Actual 1\"], columns=[\"Predicted 0\", \"Predicted 1\"])\n",
    "cm_df"
   ]
  },
  {
   "cell_type": "code",
   "execution_count": null,
   "id": "8966c649",
   "metadata": {},
   "outputs": [],
   "source": []
  }
 ],
 "metadata": {
  "kernelspec": {
   "display_name": "mlenv",
   "language": "python",
   "name": "mlenv"
  },
  "language_info": {
   "codemirror_mode": {
    "name": "ipython",
    "version": 3
   },
   "file_extension": ".py",
   "mimetype": "text/x-python",
   "name": "python",
   "nbconvert_exporter": "python",
   "pygments_lexer": "ipython3",
   "version": "3.7.10"
  }
 },
 "nbformat": 4,
 "nbformat_minor": 5
}
