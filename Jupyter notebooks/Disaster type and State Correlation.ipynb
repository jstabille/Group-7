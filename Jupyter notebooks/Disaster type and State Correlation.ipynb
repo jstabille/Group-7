{
 "cells": [
  {
   "cell_type": "code",
   "execution_count": 2,
   "metadata": {},
   "outputs": [],
   "source": [
    "import pandas as pd\n",
    "import numpy as np\n",
    "import matplotlib.pyplot as plt\n"
   ]
  },
  {
   "cell_type": "code",
   "execution_count": 3,
   "metadata": {},
   "outputs": [],
   "source": [
    "disaster_data = pd.read_csv(r\"C:\\Users\\Michael\\Module_Challenges\\Group-7\\diaster_data_clean.csv\")"
   ]
  },
  {
   "cell_type": "code",
   "execution_count": 4,
   "metadata": {},
   "outputs": [
    {
     "data": {
      "text/plain": [
       "['fema_declaration_string',\n",
       " 'disaster_number',\n",
       " 'state',\n",
       " 'declaration_type',\n",
       " 'declaration_date',\n",
       " 'fy_declared',\n",
       " 'incident_type',\n",
       " 'declaration_title',\n",
       " 'ih_program_declared',\n",
       " 'ia_program_declared',\n",
       " 'pa_program_declared',\n",
       " 'hm_program_declared',\n",
       " 'incident_begin_date',\n",
       " 'fips',\n",
       " 'place_code',\n",
       " 'designated_area',\n",
       " 'declaration_request_number',\n",
       " 'hash',\n",
       " 'last_refresh',\n",
       " 'id']"
      ]
     },
     "execution_count": 4,
     "metadata": {},
     "output_type": "execute_result"
    }
   ],
   "source": [
    "list(disaster_data)"
   ]
  },
  {
   "cell_type": "code",
   "execution_count": 5,
   "metadata": {},
   "outputs": [
    {
     "data": {
      "text/plain": [
       "-0.024910796896357598"
      ]
     },
     "execution_count": 5,
     "metadata": {},
     "output_type": "execute_result"
    }
   ],
   "source": [
    "disaster_data['state']=disaster_data['state'].astype('category').cat.codes\n",
    "disaster_data['incident_type']=disaster_data['incident_type'].astype('category').cat.codes\n",
    "disaster_data['state'].corr(disaster_data['incident_type'])"
   ]
  },
  {
   "cell_type": "code",
   "execution_count": 12,
   "metadata": {},
   "outputs": [
    {
     "data": {
      "text/plain": [
       "[<matplotlib.lines.Line2D at 0x26bfc931d48>]"
      ]
     },
     "execution_count": 12,
     "metadata": {},
     "output_type": "execute_result"
    },
    {
     "data": {
      "image/png": "[encoded data removed]",
      "text/plain": [
       "<Figure size 432x288 with 1 Axes>"
      ]
     },
     "metadata": {
      "needs_background": "light"
     },
     "output_type": "display_data"
    }
   ],
   "source": [
    "x = disaster_data['state']\n",
    "y = disaster_data['incident_type']\n",
    "plt.scatter(x, y)\n",
    "plt.title('Correlation between State and Incident type')\n",
    "plt.xlabel('State')\n",
    "plt.ylabel('Incident Type')\n",
    "plt.plot(np.unique(x), np.poly1d(np.polyfit(x, y, 1))(np.unique(x)), color='red')"
   ]
  },
  {
   "cell_type": "code",
   "execution_count": null,
   "metadata": {},
   "outputs": [],
   "source": []
  }
 ],
 "metadata": {
  "kernelspec": {
   "display_name": "PythonData",
   "language": "python",
   "name": "pythondata"
  },
  "language_info": {
   "codemirror_mode": {
    "name": "ipython",
    "version": 3
   },
   "file_extension": ".py",
   "mimetype": "text/x-python",
   "name": "python",
   "nbconvert_exporter": "python",
   "pygments_lexer": "ipython3",
   "version": "3.7.9"
  }
 },
 "nbformat": 4,
 "nbformat_minor": 4
}
